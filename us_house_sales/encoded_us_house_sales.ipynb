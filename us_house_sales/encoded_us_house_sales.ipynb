{
 "cells": [
  {
   "cell_type": "code",
   "execution_count": 1,
   "id": "a3800b5a",
   "metadata": {},
   "outputs": [],
   "source": [
    "import os\n",
    "import pandas as pd\n",
    "from sklearn.model_selection import train_test_split\n",
    "from sklearn.preprocessing import StandardScaler\n",
    "from sklearn.linear_model import LinearRegression\n",
    "from sklearn.metrics import mean_absolute_error, mean_squared_error, r2_score\n",
    "from sklearn.preprocessing import LabelEncoder\n",
    "\n",
    "df=pd.read_csv(r\"D:\\MY WORK\\us_house_sales\\us_house_Sales_data.csv\")\n",
    "df.drop_duplicates(inplace=True)\n",
    "\n",
    "# Clean numeric columns (remove text and symbols)\n",
    "df['Area (Sqft)'] = df['Area (Sqft)'].str.replace(r'\\s*sqft', '', case=False, regex=True)\n",
    "df['Lot Size'] = df['Lot Size'].str.replace(r'\\s*sqft', '', case=False, regex=True)\n",
    "df['Price'] = df['Price'].str.replace(r'[\\$,]', '', regex=True)\n",
    "df['Bedrooms'] = df['Bedrooms'].str.replace(r'\\s*bds?', '', case=False, regex=True)\n",
    "df['Bathrooms'] = df['Bathrooms'].str.replace(r'\\s*ba', '', case=False, regex=True)\n",
    "\n",
    "# Convert cleaned columns to numeric\n",
    "df[['Area (Sqft)', 'Lot Size', 'Bedrooms', 'Bathrooms', 'Price']] = df[['Area (Sqft)', 'Lot Size', 'Bedrooms', 'Bathrooms', 'Price']].apply(pd.to_numeric, errors='coerce')\n",
    "\n",
    "# Drop high-cardinality columns that are not useful for prediction\n",
    "df.drop(columns=['Address', 'Listing URL', 'MLS ID'], inplace=True)\n",
    "\n",
    "# Optionally drop 'Listing Agent' if it's also too many unique values\n",
    "df.drop(columns=['Listing Agent'], inplace=True)\n",
    "\n",
    "#apply label encoding: give unique no. to each category\n",
    "categorical_cols = df.select_dtypes(include=['object', 'category']).columns # Detect and encode categorical columns\n",
    "\n",
    "le = LabelEncoder()\n",
    "for col in categorical_cols:\n",
    "    df[col] = le.fit_transform(df[col].astype(str))  # convert to string to handle NaNs safely\n",
    "\n",
    "#convering string into numbers\n",
    "df[['Price', 'City', 'Zipcode', 'State', 'Bedrooms', 'Bathrooms', 'Area (Sqft)', 'Lot Size', 'Year Built', 'Days on Market', 'Property Type', 'Status']] = df[['Price', 'City', 'Zipcode', 'State', 'Bedrooms', 'Bathrooms', 'Area (Sqft)', 'Lot Size',\t'Year Built', 'Days on Market', 'Property Type', 'Status']] .apply(pd.to_numeric, errors='coerce')\n",
    "\n",
    "df.to_csv(r\"D:\\MY WORK\\us_house_sales\\encoded_us_house_Sales_data.csv\")"
   ]
  }
 ],
 "metadata": {
  "kernelspec": {
   "display_name": "Python 3",
   "language": "python",
   "name": "python3"
  },
  "language_info": {
   "codemirror_mode": {
    "name": "ipython",
    "version": 3
   },
   "file_extension": ".py",
   "mimetype": "text/x-python",
   "name": "python",
   "nbconvert_exporter": "python",
   "pygments_lexer": "ipython3",
   "version": "3.11.5"
  }
 },
 "nbformat": 4,
 "nbformat_minor": 5
}
