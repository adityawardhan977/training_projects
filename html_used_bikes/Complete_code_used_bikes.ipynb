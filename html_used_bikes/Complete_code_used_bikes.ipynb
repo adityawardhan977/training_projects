{
 "cells": [
  {
   "cell_type": "code",
   "execution_count": null,
   "id": "c492c376",
   "metadata": {},
   "outputs": [
    {
     "name": "stdout",
     "output_type": "stream",
     "text": [
      "MAE: ₹14096.89\n",
      "MSE: ₹2359659612.42\n",
      "R² Score: 0.88\n",
      "[110000. 110000.  66000. ...  52500.  95000.  79450.]\n"
     ]
    }
   ],
   "source": [
    "import os\n",
    "import pandas as pd\n",
    "from sklearn.preprocessing import LabelEncoder\n",
    "from sklearn.model_selection import train_test_split\n",
    "from sklearn.ensemble import RandomForestRegressor\n",
    "from sklearn.metrics import mean_absolute_error, mean_squared_error, r2_score\n",
    "\n",
    "# STEP 1: Load the raw dataset\n",
    "df = pd.read_csv(r\"D:\\MY WORK\\Used_Bikes\\Used_Bikes.csv\")\n",
    "\n",
    "# STEP 2: Remove duplicate rows\n",
    "df.drop_duplicates(inplace=True)\n",
    "\n",
    "# STEP 3: Label Encode all categorical columns\n",
    "categorical_cols = df.select_dtypes(include=['object', 'category']).columns\n",
    "le = LabelEncoder()\n",
    "for col in categorical_cols:\n",
    "    df[col] = le.fit_transform(df[col].astype(str))  # convert to string for safe handling\n",
    "\n",
    "# STEP 4: Convert specific columns to numeric, in case they were stored as strings\n",
    "df[['bike_name', 'price', 'city', 'kms_driven', 'owner', 'age', 'power', 'brand']] = \\\n",
    "    df[['bike_name', 'price', 'city', 'kms_driven', 'owner', 'age', 'power', 'brand']].apply(pd.to_numeric, errors='coerce')\n",
    "\n",
    "# OPTIONAL: Save the cleaned and encoded data (you can skip if not needed)\n",
    "df.to_csv(r\"C:\\Users\\Administrator\\Desktop\\New folder\\encoded_cleaned_used_bikes2.csv\", index=False)\n",
    "\n",
    "# STEP 5: Split features and target\n",
    "X = df.drop('price', axis=1)\n",
    "y = df['price']\n",
    "\n",
    "# STEP 6: Split into training and testing data\n",
    "X_train, X_test, y_train, y_test = train_test_split(X, y, test_size=0.2, random_state=42)\n",
    "\n",
    "# STEP 7: Train a Random Forest Regressor\n",
    "model = RandomForestRegressor(n_estimators=100, random_state=42)\n",
    "model.fit(X_train, y_train)\n",
    "\n",
    "# STEP 8: Predict on test set\n",
    "y_pred = model.predict(X_test)\n",
    "\n",
    "# STEP 9: Evaluate the model\n",
    "mae = mean_absolute_error(y_test, y_pred)\n",
    "mse = mean_squared_error(y_test, y_pred)\n",
    "r2 = r2_score(y_test, y_pred)\n",
    "\n",
    "# Print evaluation results\n",
    "print(f\"MAE: ₹{mae:.2f}\")\n",
    "print(f\"MSE: ₹{mse:.2f}\")\n",
    "print(f\"R² Score: {r2:.2f}\")\n",
    "\n",
    "from sklearn.ensemble import RandomForestRegressor\n",
    "from joblib import dump, load\n",
    "\n",
    "# Train your model\n",
    "model = RandomForestRegressor()\n",
    "model.fit(X_train, y_train)\n",
    "\n",
    "# Save the model\n",
    "dump(model, 'random_forest_model.joblib')\n",
    "\n",
    "# Later or in another script: Load the model\n",
    "loaded_model = load('random_forest_model.joblib')\n",
    "\n",
    "# Use the loaded model\n",
    "y_pred = loaded_model.predict(X_test)\n",
    "print(y_pred)\n"
   ]
  }
 ],
 "metadata": {
  "kernelspec": {
   "display_name": "Python 3",
   "language": "python",
   "name": "python3"
  },
  "language_info": {
   "codemirror_mode": {
    "name": "ipython",
    "version": 3
   },
   "file_extension": ".py",
   "mimetype": "text/x-python",
   "name": "python",
   "nbconvert_exporter": "python",
   "pygments_lexer": "ipython3",
   "version": "3.11.5"
  }
 },
 "nbformat": 4,
 "nbformat_minor": 5
}
