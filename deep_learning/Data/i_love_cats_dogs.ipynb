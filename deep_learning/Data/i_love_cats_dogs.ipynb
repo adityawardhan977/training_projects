{
 "cells": [
  {
   "cell_type": "code",
   "execution_count": 1,
   "id": "ba330c0d",
   "metadata": {},
   "outputs": [],
   "source": [
    "import pandas as pd\n",
    "import numpy as np"
   ]
  },
  {
   "cell_type": "code",
   "execution_count": 2,
   "id": "e7a0ca62",
   "metadata": {},
   "outputs": [],
   "source": [
    "text={\"text\":[\"people watch Aiyug\",\"Aiyug watch Aiyug\",\"people write comment\",\"Aiyug write comment\"],\"Output\":[1,1,0,0]}"
   ]
  },
  {
   "cell_type": "code",
   "execution_count": 3,
   "id": "739850cc",
   "metadata": {},
   "outputs": [
    {
     "data": {
      "text/html": [
       "<div>\n",
       "<style scoped>\n",
       "    .dataframe tbody tr th:only-of-type {\n",
       "        vertical-align: middle;\n",
       "    }\n",
       "\n",
       "    .dataframe tbody tr th {\n",
       "        vertical-align: top;\n",
       "    }\n",
       "\n",
       "    .dataframe thead th {\n",
       "        text-align: right;\n",
       "    }\n",
       "</style>\n",
       "<table border=\"1\" class=\"dataframe\">\n",
       "  <thead>\n",
       "    <tr style=\"text-align: right;\">\n",
       "      <th></th>\n",
       "      <th>text</th>\n",
       "      <th>Output</th>\n",
       "    </tr>\n",
       "  </thead>\n",
       "  <tbody>\n",
       "    <tr>\n",
       "      <th>0</th>\n",
       "      <td>people watch Aiyug</td>\n",
       "      <td>1</td>\n",
       "    </tr>\n",
       "    <tr>\n",
       "      <th>1</th>\n",
       "      <td>Aiyug watch Aiyug</td>\n",
       "      <td>1</td>\n",
       "    </tr>\n",
       "    <tr>\n",
       "      <th>2</th>\n",
       "      <td>people write comment</td>\n",
       "      <td>0</td>\n",
       "    </tr>\n",
       "    <tr>\n",
       "      <th>3</th>\n",
       "      <td>Aiyug write comment</td>\n",
       "      <td>0</td>\n",
       "    </tr>\n",
       "  </tbody>\n",
       "</table>\n",
       "</div>"
      ],
      "text/plain": [
       "                   text  Output\n",
       "0    people watch Aiyug       1\n",
       "1     Aiyug watch Aiyug       1\n",
       "2  people write comment       0\n",
       "3   Aiyug write comment       0"
      ]
     },
     "execution_count": 3,
     "metadata": {},
     "output_type": "execute_result"
    }
   ],
   "source": [
    "text=pd.DataFrame(text)\n",
    "text"
   ]
  },
  {
   "cell_type": "code",
   "execution_count": 4,
   "id": "04ef9589",
   "metadata": {},
   "outputs": [
    {
     "data": {
      "text/plain": [
       "{'people': 2, 'watch': 3, 'aiyug': 0, 'write': 4, 'comment': 1}"
      ]
     },
     "execution_count": 4,
     "metadata": {},
     "output_type": "execute_result"
    }
   ],
   "source": [
    "from sklearn.feature_extraction.text import CountVectorizer\n",
    "cv=CountVectorizer(lowercase=True, stop_words='english', binary=True)\n",
    "bow=cv.fit_transform(text['text'])\n",
    "cv.vocabulary_"
   ]
  },
  {
   "cell_type": "code",
   "execution_count": 5,
   "id": "b203ca29",
   "metadata": {},
   "outputs": [
    {
     "name": "stdout",
     "output_type": "stream",
     "text": [
      "[[1 0 1 1 0]]\n",
      "[[1 0 0 1 0]]\n",
      "[[0 1 1 0 1]]\n",
      "[[1 1 0 0 1]]\n"
     ]
    }
   ],
   "source": [
    "print(bow[0].toarray())\n",
    "print(bow[1].toarray())\n",
    "print(bow[2].toarray())\n",
    "print(bow[3].toarray())"
   ]
  },
  {
   "cell_type": "code",
   "execution_count": null,
   "id": "23f6c965",
   "metadata": {},
   "outputs": [
    {
     "name": "stdout",
     "output_type": "stream",
     "text": [
      "[[1 1 1 1 1 1 0 0 1 0]]\n"
     ]
    }
   ],
   "source": [
    "cv = CountVectorizer()\n",
    "cv.fit([\"hello my name is aditya\", \"comment your name\", \"watch the video\"])\n",
    "vector = cv.transform([\"hello comment my name watch is aditya\"]).toarray()\n",
    "print(vector)"
   ]
  },
  {
   "cell_type": "code",
   "execution_count": 25,
   "id": "9a964244",
   "metadata": {},
   "outputs": [
    {
     "name": "stdout",
     "output_type": "stream",
     "text": [
      "bigrams:- [('I', 'love', 'natural'), ('love', 'natural', 'language'), ('natural', 'language', 'processing')]\n"
     ]
    }
   ],
   "source": [
    "\n",
    "from nltk.util import ngrams\n",
    "from nltk.tokenize import word_tokenize\n",
    "text = \"I love natural language processing \"\n",
    "tokens = word_tokenize(text)\n",
    "n = 3\n",
    "bigrams = list(ngrams(tokens, n))\n",
    "print(\"bigrams:-\", bigrams)\n"
   ]
  },
  {
   "cell_type": "code",
   "execution_count": 8,
   "id": "a2d72046",
   "metadata": {},
   "outputs": [
    {
     "name": "stdout",
     "output_type": "stream",
     "text": [
      "document:- 1\n",
      "language: 0.5465\n",
      "love: 0.3227\n",
      "natural: 0.5465\n",
      "processing: 0.5465\n",
      "document:- 2\n",
      "learning: 0.5478\n",
      "love: 0.4254\n",
      "machine: 0.7203\n",
      "document:- 3\n",
      "deep: 0.7203\n",
      "learning: 0.5478\n",
      "love: 0.4254\n"
     ]
    }
   ],
   "source": [
    "\n",
    "from sklearn.feature_extraction.text import TfidfVectorizer\n",
    "text = [\"i love natural language processing\", \"i love machine learning\", \"i love deep learning\"]\n",
    "vectorizer = TfidfVectorizer()\n",
    "tfidf_matrix = vectorizer.fit_transform(text)\n",
    "# print(tfidf_matrix.toarray())\n",
    "feature_names = vectorizer.get_feature_names_out()\n",
    "for doc_index, doc in enumerate(tfidf_matrix.toarray()):\n",
    "    print(\"document:-\", doc_index + 1)\n",
    "    for word_index, score in enumerate(doc):\n",
    "        if score > 0:\n",
    "            print(f\"{feature_names[word_index]}: {score:.4f}\")\n",
    "\n"
   ]
  },
  {
   "cell_type": "code",
   "execution_count": null,
   "id": "01d6e875",
   "metadata": {},
   "outputs": [
    {
     "data": {
      "text/plain": [
       "array(['deep', 'language', 'learning', 'love', 'machine', 'natural',\n",
       "       'processing'], dtype=object)"
      ]
     },
     "execution_count": 9,
     "metadata": {},
     "output_type": "execute_result"
    }
   ],
   "source": [
    "vectorizer.get_feature_names_out()"
   ]
  },
  {
   "cell_type": "code",
   "execution_count": null,
   "id": "16123c41",
   "metadata": {},
   "outputs": [
    {
     "name": "stdout",
     "output_type": "stream",
     "text": [
      "I love natural language processing\n"
     ]
    }
   ],
   "source": [
    "import spacy\n",
    "\n",
    "# Load spaCy's small English model\n",
    "pos = spacy.load('en_core_web_sm')\n",
    "\n",
    "# Process a sentence\n",
    "doc = pos(\"I love natural language processing\")\n"
   ]
  },
  {
   "cell_type": "code",
   "execution_count": 33,
   "id": "f242d846",
   "metadata": {},
   "outputs": [
    {
     "data": {
      "text/plain": [
       "'I love natural language processing'"
      ]
     },
     "execution_count": 33,
     "metadata": {},
     "output_type": "execute_result"
    }
   ],
   "source": [
    "doc.text"
   ]
  },
  {
   "cell_type": "code",
   "execution_count": 34,
   "id": "0c545256",
   "metadata": {},
   "outputs": [
    {
     "data": {
      "text/plain": [
       "'NOUN'"
      ]
     },
     "execution_count": 34,
     "metadata": {},
     "output_type": "execute_result"
    }
   ],
   "source": [
    "doc[3].pos_"
   ]
  },
  {
   "cell_type": "code",
   "execution_count": 35,
   "id": "213edb78",
   "metadata": {},
   "outputs": [
    {
     "name": "stdout",
     "output_type": "stream",
     "text": [
      "love\n"
     ]
    }
   ],
   "source": [
    "from nltk.stem import PorterStemmer\n",
    "st=PorterStemmer()\n",
    "print(st.stem(\"loving\"))"
   ]
  },
  {
   "cell_type": "code",
   "execution_count": 36,
   "id": "5d58c9f1",
   "metadata": {},
   "outputs": [
    {
     "name": "stdout",
     "output_type": "stream",
     "text": [
      "love\n"
     ]
    },
    {
     "data": {
      "text/plain": [
       "'love'"
      ]
     },
     "execution_count": 36,
     "metadata": {},
     "output_type": "execute_result"
    }
   ],
   "source": [
    "print(st.stem(\"loving\"))\n",
    "st.stem(\"loving\")"
   ]
  }
 ],
 "metadata": {
  "kernelspec": {
   "display_name": "Python 3",
   "language": "python",
   "name": "python3"
  },
  "language_info": {
   "codemirror_mode": {
    "name": "ipython",
    "version": 3
   },
   "file_extension": ".py",
   "mimetype": "text/x-python",
   "name": "python",
   "nbconvert_exporter": "python",
   "pygments_lexer": "ipython3",
   "version": "3.11.5"
  }
 },
 "nbformat": 4,
 "nbformat_minor": 5
}
