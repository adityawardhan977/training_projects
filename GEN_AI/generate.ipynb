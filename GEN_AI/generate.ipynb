{
 "cells": [
  {
   "cell_type": "markdown",
   "id": "c4e9e812",
   "metadata": {},
   "source": [
    "| Command                 | Description                                                                                 |\n",
    "| ----------------------- | ------------------------------------------------------------------------------------------- |\n",
    "| `ollama init`           | Initializes a new model project in the current directory.                                   |\n",
    "| `ollama run <model>`    | Runs a model (downloads it if not already available).<br>Example: `ollama run llama3`       |\n",
    "| `ollama list`           | Lists all locally downloaded models.                                                        |\n",
    "| `ollama pull <model>`   | Downloads a model manually.<br>Example: `ollama pull mistral`                               |\n",
    "| `ollama create <model>` | Creates a custom model using a Modelfile.<br>Example: `ollama create my-model -f Modelfile` |\n",
    "| `ollama delete <model>` | Deletes a model from your local machine.                                                    |\n",
    "| `ollama serve`          | Starts the Ollama server (automatically runs in background normally).                       |\n",
    "| `ollama stop <model>`   | Stops a running model.                                                                      |\n",
    "| `ollama help`           | Displays all available commands and usage options.                                          |"
   ]
  },
  {
   "cell_type": "code",
   "execution_count": 3,
   "id": "79480dc0",
   "metadata": {},
   "outputs": [
    {
     "name": "stdout",
     "output_type": "stream",
     "text": [
      "Response:\n",
      " Okay, let's break down machine learning in a simple way.\n",
      "\n",
      "**Imagine you're teaching a dog a trick, like \"sit.\"**\n",
      "\n",
      "* **Traditional Programming:** You’d have to write *very* specific instructions: \"If the dog is standing, move your hand downwards, say 'sit', and reward if it lies down.\" This is how traditional programming works - you tell the computer *exactly* what to do in every situation.\n",
      "\n",
      "* **Machine Learning is Different:** Instead of writing instructions, you show the dog *many* examples of \"sit\" – you show it when it's standing, you say \"sit,\" and if it sits, you give it a treat.  The dog *learns* to recognize the patterns and conditions that lead to the \"sit\" action. It figures it out on its own!\n",
      "\n",
      "**That's essentially what machine learning does!**\n",
      "\n",
      "Here’s a more formal explanation:\n",
      "\n",
      "**Machine learning is a way to teach computers to learn from data, without being explicitly programmed.**\n",
      "\n",
      "Here’s a breakdown of the key parts:\n",
      "\n",
      "1. **Data:** You feed the computer a lot of data. This data can be anything – pictures, numbers, text, sounds, etc. (Think of all the examples you showed the dog).\n",
      "\n",
      "2. **Algorithm:** This is the “learning” part. It’s a mathematical formula that looks for patterns in the data. There are many different types of algorithms, each good for different types of problems.\n",
      "\n",
      "3. **Learning:** The algorithm analyzes the data and adjusts itself to get better at predicting something. For example, it might learn to recognize a cat in a picture, or predict what you’ll buy next on Amazon.\n",
      "\n",
      "4. **Prediction/Action:**  Once the algorithm is “trained,” it can then make predictions or take actions based on new data it sees.\n",
      "\n",
      "**Here are a few common examples:**\n",
      "\n",
      "* **Spam Filters:** Learn to identify spam emails based on words, sender, and other characteristics.\n",
      "* **Netflix Recommendations:** Learn what you like to watch based on your viewing history.\n",
      "* **Voice Assistants (Siri, Alexa):**  Learn to understand your voice and respond to your commands.\n",
      "\n",
      "**In short, machine learning allows computers to improve their performance on a specific task over time, as they are exposed to more data.**\n",
      "\n",
      "\n",
      "---\n",
      "\n",
      "**Resources to learn more:**\n",
      "\n",
      "* **Google's Machine Learning Crash Course:** [https://developers.google.com/machine-learning/](https://developers.google.com/machine-learning/)\n",
      "* **IBM Machine Learning Explainable AI:** [https://www.ibm.com/cloud/learn/machine-learning](https://www.ibm.com/cloud/learn/machine-learning)\n",
      "\n",
      "\n",
      "Do you want me to delve into a specific aspect of machine learning, like different types of algorithms, or perhaps a particular application of machine learning (like image recognition)?\n"
     ]
    }
   ],
   "source": [
    "import requests\n",
    "\n",
    "OLLAMA_URL = \"http://localhost:11434/api/generate\"\n",
    "MODEL = \"gemma3:latest\"  # ← this must match exactly\n",
    "prompt = \"Explain the concept of machine learning in simple terms.\"\n",
    "\n",
    "payload = {\n",
    "    \"model\": MODEL,\n",
    "    \"prompt\": prompt,\n",
    "    \"stream\": False\n",
    "}\n",
    "\n",
    "response = requests.post(OLLAMA_URL, json=payload)\n",
    "\n",
    "if response.status_code == 200:\n",
    "    result = response.json()\n",
    "    print(\"Response:\\n\", result[\"response\"])\n",
    "else:\n",
    "    print(\"Error:\", response.status_code, response.text)\n"
   ]
  }
 ],
 "metadata": {
  "kernelspec": {
   "display_name": "Python 3",
   "language": "python",
   "name": "python3"
  },
  "language_info": {
   "codemirror_mode": {
    "name": "ipython",
    "version": 3
   },
   "file_extension": ".py",
   "mimetype": "text/x-python",
   "name": "python",
   "nbconvert_exporter": "python",
   "pygments_lexer": "ipython3",
   "version": "3.11.5"
  }
 },
 "nbformat": 4,
 "nbformat_minor": 5
}
