{
 "cells": [
  {
   "cell_type": "markdown",
   "id": "c4e9e812",
   "metadata": {},
   "source": [
    "| Command                 | Description                                                                                 |\n",
    "| ----------------------- | ------------------------------------------------------------------------------------------- |\n",
    "| `ollama init`           | Initializes a new model project in the current directory.                                   |\n",
    "| `ollama run <model>`    | Runs a model (downloads it if not already available).<br>Example: `ollama run llama3`       |\n",
    "| `ollama list`           | Lists all locally downloaded models.                                                        |\n",
    "| `ollama pull <model>`   | Downloads a model manually.<br>Example: `ollama pull mistral`                               |\n",
    "| `ollama create <model>` | Creates a custom model using a Modelfile.<br>Example: `ollama create my-model -f Modelfile` |\n",
    "| `ollama delete <model>` | Deletes a model from your local machine.                                                    |\n",
    "| `ollama serve`          | Starts the Ollama server (automatically runs in background normally).                       |\n",
    "| `ollama stop <model>`   | Stops a running model.                                                                      |\n",
    "| `ollama help`           | Displays all available commands and usage options.                                          |"
   ]
  },
  {
   "cell_type": "code",
   "execution_count": 1,
   "id": "994c206d",
   "metadata": {},
   "outputs": [
    {
     "name": "stdout",
     "output_type": "stream",
     "text": [
      "Error: 404 {\"error\":\"model 'llama3' not found\"}\n"
     ]
    }
   ],
   "source": [
    "import requests\n",
    "\n",
    "# Set the base URL of the local Ollama server\n",
    "OLLAMA_URL = \"http://localhost:11434/api/generate\"\n",
    "\n",
    "# Choose your model (make sure it's pulled: e.g., llama3, mistral, gemma)\n",
    "MODEL = \"llama3\"\n",
    "\n",
    "# Input prompt\n",
    "prompt = \"Explain the concept of machine learning in simple terms.\"\n",
    "\n",
    "# Request payload\n",
    "payload = {\n",
    "    \"model\": MODEL,\n",
    "    \"prompt\": prompt,\n",
    "    \"stream\": False   # Set to True if you want streaming output\n",
    "}\n",
    "\n",
    "# Send POST request to Ollama server\n",
    "response = requests.post(OLLAMA_URL, json=payload)\n",
    "\n",
    "# Parse the result\n",
    "if response.status_code == 200:\n",
    "    result = response.json()\n",
    "    print(\"Response:\\n\", result[\"response\"])\n",
    "else:\n",
    "    print(\"Error:\", response.status_code, response.text)"
   ]
  }
 ],
 "metadata": {
  "kernelspec": {
   "display_name": "Python 3",
   "language": "python",
   "name": "python3"
  },
  "language_info": {
   "codemirror_mode": {
    "name": "ipython",
    "version": 3
   },
   "file_extension": ".py",
   "mimetype": "text/x-python",
   "name": "python",
   "nbconvert_exporter": "python",
   "pygments_lexer": "ipython3",
   "version": "3.11.5"
  }
 },
 "nbformat": 4,
 "nbformat_minor": 5
}
