{
 "cells": [
  {
   "cell_type": "code",
   "execution_count": 1,
   "id": "dc0d0c60",
   "metadata": {},
   "outputs": [
    {
     "name": "stdout",
     "output_type": "stream",
     "text": [
      "File saved\n"
     ]
    }
   ],
   "source": [
    "import os\n",
    "import pandas as pd\n",
    "from sklearn.preprocessing import LabelEncoder\n",
    "\n",
    "# Load raw data\n",
    "df = pd.read_csv(r\"D:\\MY WORK\\Disease\\heart_disease.csv\")\n",
    "df.drop_duplicates(inplace=True)\n",
    "\n",
    "#convering string into numbers\n",
    "df[['Age', 'Blood Pressure', 'Cholesterol Level', 'BMI', 'Sleep Hours', 'Triglyceride Level', 'Fasting Blood Sugar', 'CRP Level', 'Homocysteine Level']] = df[['Age', 'Blood Pressure', 'Cholesterol Level', 'BMI', 'Sleep Hours', 'Triglyceride Level', 'Fasting Blood Sugar', 'CRP Level', 'Homocysteine Level']] .apply(pd.to_numeric, errors='coerce')\n",
    "\n",
    "#apply label encoding: give unique no. to each category\n",
    "\n",
    "categorical_cols = df.select_dtypes(include=['object', 'category']).columns # Detect and encode categorical columns\n",
    "\n",
    "le = LabelEncoder()\n",
    "for col in categorical_cols:\n",
    "    df[col] = le.fit_transform(df[col].astype(str))  # convert to string to handle NaNs safely\n",
    "\n",
    "# Save cleaned & encoded data\n",
    "df.to_csv(r\"D:\\MY WORK\\Disease\\cleaned_encoded_heart_disease.csv\", index=False)\n",
    "print(\"File saved\")\n"
   ]
  }
 ],
 "metadata": {
  "kernelspec": {
   "display_name": "Python 3",
   "language": "python",
   "name": "python3"
  },
  "language_info": {
   "codemirror_mode": {
    "name": "ipython",
    "version": 3
   },
   "file_extension": ".py",
   "mimetype": "text/x-python",
   "name": "python",
   "nbconvert_exporter": "python",
   "pygments_lexer": "ipython3",
   "version": "3.11.5"
  }
 },
 "nbformat": 4,
 "nbformat_minor": 5
}
